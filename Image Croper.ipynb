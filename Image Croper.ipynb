{
 "cells": [
  {
   "cell_type": "code",
   "execution_count": 1,
   "id": "42ef80f3",
   "metadata": {},
   "outputs": [],
   "source": [
    "def create_box(xy, offset):\n",
    "    '''\n",
    "    Given an (x,y) position and an offset,\n",
    "    Return a box (left, top, right, bottom) centered at (x,y) with sidelength equal to twice the offset\n",
    "    '''\n",
    "    x = xy[0]\n",
    "    y = xy[1]\n",
    "    box = (x - offset, y - offset, x + offset, y + offset)\n",
    "    return box"
   ]
  },
  {
   "cell_type": "code",
   "execution_count": 2,
   "id": "503900e4",
   "metadata": {},
   "outputs": [],
   "source": [
    "##UNMARKED SATS\n",
    "from PIL import Image\n",
    "import os\n",
    "Image.MAX_IMAGE_PIXELS = 1000000000\n",
    "def tile(path, subimage_size):\n",
    "    image_name = path[-7:-4]\n",
    "    with Image.open(path) as im:\n",
    "        w = im.size[0]\n",
    "        h = im.size[1]\n",
    "        offset = subimage_size // 2\n",
    "        count = 1\n",
    "        for x in range(offset, w - offset, subimage_size):\n",
    "            for y in range(offset, h - offset, subimage_size):\n",
    "                box = create_box((x, y), offset)\n",
    "                subimage = im.crop(box)\n",
    "                filepath = \"C:/Users/kylew/gully/images/subimages/\" + image_name\n",
    "                if not os.path.exists(filepath):\n",
    "                    os.makedirs(filepath)\n",
    "                subimage.save(filepath + \"/\" + image_name + \"_\" + str(count) + \".png\")\n",
    "                count+=1\n",
    "        "
   ]
  },
  {
   "cell_type": "code",
   "execution_count": 3,
   "id": "8ea07ae6",
   "metadata": {},
   "outputs": [],
   "source": [
    "###MARKED SATS\n",
    "\n",
    "def tile_marked(path, subimage_size):\n",
    "    image_name = path[-9:-4]\n",
    "    with Image.open(path) as im:\n",
    "        w = im.size[0]\n",
    "        h = im.size[1]\n",
    "        offset = subimage_size // 2\n",
    "        count = 1\n",
    "        for x in range(offset, w - offset, subimage_size):\n",
    "            for y in range(offset, h - offset, subimage_size):\n",
    "                box = create_box((x, y), offset)\n",
    "                subimage = im.crop(box)\n",
    "                filepath = \"C:/Users/kylew/gully/images/subimages/\" + image_name\n",
    "                if not os.path.exists(filepath):\n",
    "                    os.makedirs(filepath)\n",
    "                subimage.save(filepath + \"/\" + image_name + \"_\" + str(count) + \".png\")\n",
    "                count+=1\n",
    "        "
   ]
  },
  {
   "cell_type": "code",
   "execution_count": 18,
   "id": "834a09e5",
   "metadata": {},
   "outputs": [],
   "source": [
    "image = r\"C:\\Users\\kylew\\gully\\images\\Feb17\\satellites-marked\\405_t.png\"\n",
    "tile_marked(image, 1024)"
   ]
  },
  {
   "cell_type": "code",
   "execution_count": 19,
   "id": "d95045bd",
   "metadata": {},
   "outputs": [],
   "source": [
    "image = r\"C:\\Users\\kylew\\gully\\images\\Feb17\\satellites\\405.png\"\n",
    "tile(image, 1024)"
   ]
  },
  {
   "cell_type": "code",
   "execution_count": null,
   "id": "e55c72c8",
   "metadata": {},
   "outputs": [],
   "source": []
  }
 ],
 "metadata": {
  "kernelspec": {
   "display_name": "Python 3 (ipykernel)",
   "language": "python",
   "name": "python3"
  },
  "language_info": {
   "codemirror_mode": {
    "name": "ipython",
    "version": 3
   },
   "file_extension": ".py",
   "mimetype": "text/x-python",
   "name": "python",
   "nbconvert_exporter": "python",
   "pygments_lexer": "ipython3",
   "version": "3.9.7"
  }
 },
 "nbformat": 4,
 "nbformat_minor": 5
}
